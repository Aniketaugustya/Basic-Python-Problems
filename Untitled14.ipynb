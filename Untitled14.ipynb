{
  "nbformat": 4,
  "nbformat_minor": 0,
  "metadata": {
    "colab": {
      "provenance": [],
      "authorship_tag": "ABX9TyPyEFBEB5kWb0zg4bfuM7fb",
      "include_colab_link": true
    },
    "kernelspec": {
      "name": "python3",
      "display_name": "Python 3"
    },
    "language_info": {
      "name": "python"
    }
  },
  "cells": [
    {
      "cell_type": "markdown",
      "metadata": {
        "id": "view-in-github",
        "colab_type": "text"
      },
      "source": [
        "<a href=\"https://colab.research.google.com/github/Aniketaugustya/Basic-Python-Problems/blob/main/Untitled14.ipynb\" target=\"_parent\"><img src=\"https://colab.research.google.com/assets/colab-badge.svg\" alt=\"Open In Colab\"/></a>"
      ]
    },
    {
      "cell_type": "code",
      "execution_count": null,
      "metadata": {
        "id": "at4YTTVfB9Ro"
      },
      "outputs": [],
      "source": [
        "\n",
        "import csv\n",
        "\n",
        "\n",
        "class Student:\n",
        "    def __init__(self, roll_number, name, age, grade):\n",
        "        self.roll_number = roll_number\n",
        "        self.name = name\n",
        "        self.age = age\n",
        "        self.grade = grade\n",
        "\n",
        "    def __str__(self):\n",
        "        return f\"Roll: {self.roll_number}, Name: {self.name}, Age: {self.age}, Grade: {self.grade}\"\n",
        "\n",
        "\n",
        "\n",
        "class StudentManager:\n",
        "    def __init__(self, filename=\"student_records.csv\"):\n",
        "        self.filename = filename\n",
        "        self.students = []\n",
        "        self.read_from_file()\n",
        "\n",
        "    def add_student(self, student):\n",
        "        self.students.append(student)\n",
        "        self.save_to_file()\n",
        "\n",
        "    def view_students(self):\n",
        "        for view in self.students:\n",
        "            print(view)\n",
        "\n",
        "    def search_by_roll(self, roll_number):\n",
        "        for view in self.students:\n",
        "            if view.roll_number == roll_number:\n",
        "                return view\n",
        "        return None\n",
        "\n",
        "    def update_student(self, roll_number, name=None, age=None, grade=None):\n",
        "        student = self.search_by_roll(roll_number)\n",
        "        if student:\n",
        "            if name: student.name = name\n",
        "            if age: student.age = age\n",
        "            if grade: student.grade = grade\n",
        "            self.save_to_file()\n",
        "            return True\n",
        "        return False\n",
        "\n",
        "    def delete_student(self, roll_number):\n",
        "        student = self.search_by_roll(roll_number)\n",
        "        if student:\n",
        "            self.students.remove(student)\n",
        "            self.save_to_file()\n",
        "            return True\n",
        "        return False\n",
        "\n",
        "    def save_to_file(self):\n",
        "        with open(self.filename, \"w\", newline=\"\") as file:\n",
        "            writer = csv.writer(file)\n",
        "            for view in self.students:\n",
        "                writer.writerow([view.roll_number, view.name, view.age, view.grade])\n",
        "\n",
        "    def read_from_file(self):\n",
        "        try:\n",
        "            with open(self.filename, \"r\") as file:\n",
        "                reader = csv.reader(file)\n",
        "                self.students = [Student(r, n, a, g) for r, n, a, g in reader]\n",
        "        except FileNotFoundError:\n",
        "            pass\n",
        "\n",
        ""
      ]
    },
    {
      "cell_type": "code",
      "source": [
        "#  Menu\n",
        "if __name__ == \"__main__\":\n",
        "    manager = StudentManager()\n",
        "\n",
        "    while True:\n",
        "        print(\"Student Report Management\")\n",
        "        print(\"1 Add Student\")\n",
        "        print(\"2 View All Students\")\n",
        "        print(\"3 Search Student by Roll Number\")\n",
        "        print(\"4 Update Student\")\n",
        "        print(\"5 Delete Student\")\n",
        "        print(\"6 Exit\")\n",
        "\n",
        "        choice = input(\"Enter your choice: \")\n",
        "\n",
        "        if choice == \"1\":\n",
        "            r = input(\"Roll number: \")\n",
        "            n = input(\"Name: \")\n",
        "            a = input(\"Age: \")\n",
        "            g = input(\"Grade: \")\n",
        "            manager.add_student(Student(r, n, a, g))\n",
        "\n",
        "        elif choice == \"2\":\n",
        "            manager.view_students()\n",
        "\n",
        "        elif choice == \"3\":\n",
        "            r = input(\"Enter roll number: \")\n",
        "            s = manager.search_by_roll(r)\n",
        "            print(f\"{s}\" if s else \"Student not found.\")\n",
        "\n",
        "        elif choice == \"4\":\n",
        "            r = input(\"Roll number to update: \")\n",
        "            n = input(\"New name: \")\n",
        "            a = input(\"New age: \")\n",
        "            g = input(\"New grade: \")\n",
        "            if manager.update_student(r, n, a, g):\n",
        "                print(\"Student updated.\")\n",
        "            else:\n",
        "                print(\"Student not found.\")\n",
        "\n",
        "        elif choice == \"5\":\n",
        "            r = input(\"Roll number to delete: \")\n",
        "            if manager.delete_student(r):\n",
        "                print(\"Student deleted.\")\n",
        "            else:\n",
        "                print(\"Student not found.\")\n",
        "\n",
        "        elif choice == \"6\":\n",
        "            print(\"Exiting program...\")\n",
        "            break\n",
        "\n",
        "        else:\n",
        "            print(\"Please try again.\")"
      ],
      "metadata": {
        "colab": {
          "base_uri": "https://localhost:8080/"
        },
        "id": "6VEMDeUIG7-o",
        "outputId": "a46644f2-6c9b-42f0-a6af-fba89c240930"
      },
      "execution_count": null,
      "outputs": [
        {
          "output_type": "stream",
          "name": "stdout",
          "text": [
            "Student Report Management\n",
            "1 Add Student\n",
            "2 View All Students\n",
            "3 Search Student by Roll Number\n",
            "4 Update Student\n",
            "5 Delete Student\n",
            "6 Exit\n"
          ]
        }
      ]
    }
  ]
}